{
 "cells": [
  {
   "cell_type": "code",
   "execution_count": 1,
   "id": "34f98c97",
   "metadata": {
    "scrolled": true
   },
   "outputs": [
    {
     "name": "stderr",
     "output_type": "stream",
     "text": [
      "/usr/lib/python3/dist-packages/scipy/__init__.py:146: UserWarning: A NumPy version >=1.17.3 and <1.25.0 is required for this version of SciPy (detected version 1.26.4\n",
      "  warnings.warn(f\"A NumPy version >={np_minversion} and <{np_maxversion}\"\n",
      "/usr/local/lib/python3.10/dist-packages/openml/datasets/functions.py:438: FutureWarning: Starting from Version 0.15 `download_data`, `download_qualities`, and `download_features_meta_data` will all be ``False`` instead of ``True`` by default to enable lazy loading. To disable this message until version 0.15 explicitly set `download_data`, `download_qualities`, and `download_features_meta_data` to a bool while calling `get_dataset`.\n",
      "  warnings.warn(\n"
     ]
    }
   ],
   "source": [
    "import pandas as pd\n",
    "import openml\n",
    "import data_preprocess as dp\n",
    "\n",
    "data_name = 'bank32nh'\n",
    "\n",
    "data = openml.datasets.get_dataset(833)\n",
    "\n",
    "X, y, categorical_indicator, attribute_names = data.get_data(\n",
    "    target=data.default_target_attribute, dataset_format=\"dataframe\"\n",
    ")"
   ]
  },
  {
   "cell_type": "markdown",
   "id": "a854335e",
   "metadata": {},
   "source": [
    "# Data Preprocessing"
   ]
  },
  {
   "cell_type": "code",
   "execution_count": 2,
   "id": "b83124ce",
   "metadata": {},
   "outputs": [
    {
     "data": {
      "text/html": [
       "<div>\n",
       "<style scoped>\n",
       "    .dataframe tbody tr th:only-of-type {\n",
       "        vertical-align: middle;\n",
       "    }\n",
       "\n",
       "    .dataframe tbody tr th {\n",
       "        vertical-align: top;\n",
       "    }\n",
       "\n",
       "    .dataframe thead th {\n",
       "        text-align: right;\n",
       "    }\n",
       "</style>\n",
       "<table border=\"1\" class=\"dataframe\">\n",
       "  <thead>\n",
       "    <tr style=\"text-align: right;\">\n",
       "      <th></th>\n",
       "      <th>a1cx</th>\n",
       "      <th>a1cy</th>\n",
       "      <th>a1sx</th>\n",
       "      <th>a1sy</th>\n",
       "      <th>a1rho</th>\n",
       "      <th>a1pop</th>\n",
       "      <th>a2cx</th>\n",
       "      <th>a2cy</th>\n",
       "      <th>a2sx</th>\n",
       "      <th>a2sy</th>\n",
       "      <th>...</th>\n",
       "      <th>b1eff</th>\n",
       "      <th>b2x</th>\n",
       "      <th>b2y</th>\n",
       "      <th>b2call</th>\n",
       "      <th>b2eff</th>\n",
       "      <th>b3x</th>\n",
       "      <th>b3y</th>\n",
       "      <th>b3call</th>\n",
       "      <th>b3eff</th>\n",
       "      <th>mxql</th>\n",
       "    </tr>\n",
       "  </thead>\n",
       "  <tbody>\n",
       "    <tr>\n",
       "      <th>0</th>\n",
       "      <td>0.413010</td>\n",
       "      <td>0.607442</td>\n",
       "      <td>0.332608</td>\n",
       "      <td>0.406812</td>\n",
       "      <td>-0.151224</td>\n",
       "      <td>1.525222</td>\n",
       "      <td>-0.144368</td>\n",
       "      <td>0.852368</td>\n",
       "      <td>0.412397</td>\n",
       "      <td>1.728169</td>\n",
       "      <td>...</td>\n",
       "      <td>1.974706</td>\n",
       "      <td>-0.776759</td>\n",
       "      <td>-0.783770</td>\n",
       "      <td>8</td>\n",
       "      <td>0.603486</td>\n",
       "      <td>-0.997118</td>\n",
       "      <td>-0.502138</td>\n",
       "      <td>5</td>\n",
       "      <td>1.169388</td>\n",
       "      <td>9</td>\n",
       "    </tr>\n",
       "    <tr>\n",
       "      <th>1</th>\n",
       "      <td>-0.602384</td>\n",
       "      <td>0.350618</td>\n",
       "      <td>0.429196</td>\n",
       "      <td>0.414476</td>\n",
       "      <td>-0.124489</td>\n",
       "      <td>4.597991</td>\n",
       "      <td>0.579458</td>\n",
       "      <td>0.651134</td>\n",
       "      <td>0.104394</td>\n",
       "      <td>0.636356</td>\n",
       "      <td>...</td>\n",
       "      <td>0.798979</td>\n",
       "      <td>-0.002820</td>\n",
       "      <td>-0.080542</td>\n",
       "      <td>2</td>\n",
       "      <td>1.125542</td>\n",
       "      <td>-0.983397</td>\n",
       "      <td>-0.107632</td>\n",
       "      <td>5</td>\n",
       "      <td>1.186039</td>\n",
       "      <td>7</td>\n",
       "    </tr>\n",
       "    <tr>\n",
       "      <th>2</th>\n",
       "      <td>-0.322881</td>\n",
       "      <td>-0.538491</td>\n",
       "      <td>1.602260</td>\n",
       "      <td>0.039605</td>\n",
       "      <td>0.196023</td>\n",
       "      <td>1.909005</td>\n",
       "      <td>-0.675672</td>\n",
       "      <td>0.963618</td>\n",
       "      <td>0.147458</td>\n",
       "      <td>1.414008</td>\n",
       "      <td>...</td>\n",
       "      <td>0.577355</td>\n",
       "      <td>-0.952645</td>\n",
       "      <td>-0.571600</td>\n",
       "      <td>5</td>\n",
       "      <td>1.280392</td>\n",
       "      <td>0.771129</td>\n",
       "      <td>-0.665756</td>\n",
       "      <td>5</td>\n",
       "      <td>1.024203</td>\n",
       "      <td>6</td>\n",
       "    </tr>\n",
       "    <tr>\n",
       "      <th>3</th>\n",
       "      <td>-0.233570</td>\n",
       "      <td>-0.936451</td>\n",
       "      <td>1.710192</td>\n",
       "      <td>2.179527</td>\n",
       "      <td>0.438461</td>\n",
       "      <td>4.742055</td>\n",
       "      <td>-0.163625</td>\n",
       "      <td>-0.923273</td>\n",
       "      <td>0.597622</td>\n",
       "      <td>0.118409</td>\n",
       "      <td>...</td>\n",
       "      <td>0.760084</td>\n",
       "      <td>-0.198235</td>\n",
       "      <td>-0.205276</td>\n",
       "      <td>2</td>\n",
       "      <td>0.509727</td>\n",
       "      <td>-0.579544</td>\n",
       "      <td>0.480094</td>\n",
       "      <td>6</td>\n",
       "      <td>1.568492</td>\n",
       "      <td>7</td>\n",
       "    </tr>\n",
       "    <tr>\n",
       "      <th>4</th>\n",
       "      <td>0.403126</td>\n",
       "      <td>0.313367</td>\n",
       "      <td>0.822382</td>\n",
       "      <td>1.393975</td>\n",
       "      <td>0.253435</td>\n",
       "      <td>9.398630</td>\n",
       "      <td>0.312528</td>\n",
       "      <td>0.288321</td>\n",
       "      <td>0.431867</td>\n",
       "      <td>0.110369</td>\n",
       "      <td>...</td>\n",
       "      <td>1.170067</td>\n",
       "      <td>0.573352</td>\n",
       "      <td>0.315217</td>\n",
       "      <td>2</td>\n",
       "      <td>0.622033</td>\n",
       "      <td>-0.134747</td>\n",
       "      <td>0.669948</td>\n",
       "      <td>3</td>\n",
       "      <td>1.295913</td>\n",
       "      <td>9</td>\n",
       "    </tr>\n",
       "    <tr>\n",
       "      <th>...</th>\n",
       "      <td>...</td>\n",
       "      <td>...</td>\n",
       "      <td>...</td>\n",
       "      <td>...</td>\n",
       "      <td>...</td>\n",
       "      <td>...</td>\n",
       "      <td>...</td>\n",
       "      <td>...</td>\n",
       "      <td>...</td>\n",
       "      <td>...</td>\n",
       "      <td>...</td>\n",
       "      <td>...</td>\n",
       "      <td>...</td>\n",
       "      <td>...</td>\n",
       "      <td>...</td>\n",
       "      <td>...</td>\n",
       "      <td>...</td>\n",
       "      <td>...</td>\n",
       "      <td>...</td>\n",
       "      <td>...</td>\n",
       "      <td>...</td>\n",
       "    </tr>\n",
       "    <tr>\n",
       "      <th>8187</th>\n",
       "      <td>0.574602</td>\n",
       "      <td>0.838725</td>\n",
       "      <td>0.413666</td>\n",
       "      <td>0.106538</td>\n",
       "      <td>-0.234311</td>\n",
       "      <td>1.826603</td>\n",
       "      <td>-0.812191</td>\n",
       "      <td>-0.641247</td>\n",
       "      <td>0.032074</td>\n",
       "      <td>0.311381</td>\n",
       "      <td>...</td>\n",
       "      <td>1.770834</td>\n",
       "      <td>0.458032</td>\n",
       "      <td>-0.252926</td>\n",
       "      <td>2</td>\n",
       "      <td>1.300314</td>\n",
       "      <td>0.265640</td>\n",
       "      <td>0.075141</td>\n",
       "      <td>2</td>\n",
       "      <td>1.061276</td>\n",
       "      <td>7</td>\n",
       "    </tr>\n",
       "    <tr>\n",
       "      <th>8188</th>\n",
       "      <td>-0.328542</td>\n",
       "      <td>0.431295</td>\n",
       "      <td>1.871342</td>\n",
       "      <td>0.195284</td>\n",
       "      <td>-0.454419</td>\n",
       "      <td>1.266566</td>\n",
       "      <td>0.074520</td>\n",
       "      <td>-0.233416</td>\n",
       "      <td>0.967483</td>\n",
       "      <td>0.902844</td>\n",
       "      <td>...</td>\n",
       "      <td>1.019917</td>\n",
       "      <td>-0.943163</td>\n",
       "      <td>0.184895</td>\n",
       "      <td>3</td>\n",
       "      <td>0.760308</td>\n",
       "      <td>0.184409</td>\n",
       "      <td>0.313283</td>\n",
       "      <td>2</td>\n",
       "      <td>1.790066</td>\n",
       "      <td>7</td>\n",
       "    </tr>\n",
       "    <tr>\n",
       "      <th>8189</th>\n",
       "      <td>0.941521</td>\n",
       "      <td>-0.820731</td>\n",
       "      <td>1.055311</td>\n",
       "      <td>0.186861</td>\n",
       "      <td>-0.184692</td>\n",
       "      <td>2.716994</td>\n",
       "      <td>0.965042</td>\n",
       "      <td>0.328241</td>\n",
       "      <td>0.138787</td>\n",
       "      <td>0.502774</td>\n",
       "      <td>...</td>\n",
       "      <td>0.847430</td>\n",
       "      <td>0.935832</td>\n",
       "      <td>0.289506</td>\n",
       "      <td>5</td>\n",
       "      <td>1.714573</td>\n",
       "      <td>0.216543</td>\n",
       "      <td>-0.763388</td>\n",
       "      <td>6</td>\n",
       "      <td>1.153544</td>\n",
       "      <td>7</td>\n",
       "    </tr>\n",
       "    <tr>\n",
       "      <th>8190</th>\n",
       "      <td>0.206743</td>\n",
       "      <td>0.916655</td>\n",
       "      <td>0.265062</td>\n",
       "      <td>0.666585</td>\n",
       "      <td>0.027745</td>\n",
       "      <td>5.556948</td>\n",
       "      <td>-0.869593</td>\n",
       "      <td>-0.703412</td>\n",
       "      <td>2.032233</td>\n",
       "      <td>0.779990</td>\n",
       "      <td>...</td>\n",
       "      <td>1.199289</td>\n",
       "      <td>-0.104562</td>\n",
       "      <td>0.752754</td>\n",
       "      <td>6</td>\n",
       "      <td>0.561357</td>\n",
       "      <td>0.908959</td>\n",
       "      <td>-0.137524</td>\n",
       "      <td>5</td>\n",
       "      <td>1.392110</td>\n",
       "      <td>9</td>\n",
       "    </tr>\n",
       "    <tr>\n",
       "      <th>8191</th>\n",
       "      <td>0.078102</td>\n",
       "      <td>-0.588395</td>\n",
       "      <td>2.976553</td>\n",
       "      <td>0.257401</td>\n",
       "      <td>0.243605</td>\n",
       "      <td>3.471094</td>\n",
       "      <td>0.966461</td>\n",
       "      <td>0.119917</td>\n",
       "      <td>0.676696</td>\n",
       "      <td>1.228387</td>\n",
       "      <td>...</td>\n",
       "      <td>1.097475</td>\n",
       "      <td>0.089226</td>\n",
       "      <td>-0.545795</td>\n",
       "      <td>7</td>\n",
       "      <td>1.666457</td>\n",
       "      <td>-0.813706</td>\n",
       "      <td>-0.049569</td>\n",
       "      <td>4</td>\n",
       "      <td>1.786096</td>\n",
       "      <td>8</td>\n",
       "    </tr>\n",
       "  </tbody>\n",
       "</table>\n",
       "<p>8192 rows × 32 columns</p>\n",
       "</div>"
      ],
      "text/plain": [
       "          a1cx      a1cy      a1sx      a1sy     a1rho     a1pop      a2cx  \\\n",
       "0     0.413010  0.607442  0.332608  0.406812 -0.151224  1.525222 -0.144368   \n",
       "1    -0.602384  0.350618  0.429196  0.414476 -0.124489  4.597991  0.579458   \n",
       "2    -0.322881 -0.538491  1.602260  0.039605  0.196023  1.909005 -0.675672   \n",
       "3    -0.233570 -0.936451  1.710192  2.179527  0.438461  4.742055 -0.163625   \n",
       "4     0.403126  0.313367  0.822382  1.393975  0.253435  9.398630  0.312528   \n",
       "...        ...       ...       ...       ...       ...       ...       ...   \n",
       "8187  0.574602  0.838725  0.413666  0.106538 -0.234311  1.826603 -0.812191   \n",
       "8188 -0.328542  0.431295  1.871342  0.195284 -0.454419  1.266566  0.074520   \n",
       "8189  0.941521 -0.820731  1.055311  0.186861 -0.184692  2.716994  0.965042   \n",
       "8190  0.206743  0.916655  0.265062  0.666585  0.027745  5.556948 -0.869593   \n",
       "8191  0.078102 -0.588395  2.976553  0.257401  0.243605  3.471094  0.966461   \n",
       "\n",
       "          a2cy      a2sx      a2sy  ...     b1eff       b2x       b2y  b2call  \\\n",
       "0     0.852368  0.412397  1.728169  ...  1.974706 -0.776759 -0.783770       8   \n",
       "1     0.651134  0.104394  0.636356  ...  0.798979 -0.002820 -0.080542       2   \n",
       "2     0.963618  0.147458  1.414008  ...  0.577355 -0.952645 -0.571600       5   \n",
       "3    -0.923273  0.597622  0.118409  ...  0.760084 -0.198235 -0.205276       2   \n",
       "4     0.288321  0.431867  0.110369  ...  1.170067  0.573352  0.315217       2   \n",
       "...        ...       ...       ...  ...       ...       ...       ...     ...   \n",
       "8187 -0.641247  0.032074  0.311381  ...  1.770834  0.458032 -0.252926       2   \n",
       "8188 -0.233416  0.967483  0.902844  ...  1.019917 -0.943163  0.184895       3   \n",
       "8189  0.328241  0.138787  0.502774  ...  0.847430  0.935832  0.289506       5   \n",
       "8190 -0.703412  2.032233  0.779990  ...  1.199289 -0.104562  0.752754       6   \n",
       "8191  0.119917  0.676696  1.228387  ...  1.097475  0.089226 -0.545795       7   \n",
       "\n",
       "         b2eff       b3x       b3y  b3call     b3eff  mxql  \n",
       "0     0.603486 -0.997118 -0.502138       5  1.169388     9  \n",
       "1     1.125542 -0.983397 -0.107632       5  1.186039     7  \n",
       "2     1.280392  0.771129 -0.665756       5  1.024203     6  \n",
       "3     0.509727 -0.579544  0.480094       6  1.568492     7  \n",
       "4     0.622033 -0.134747  0.669948       3  1.295913     9  \n",
       "...        ...       ...       ...     ...       ...   ...  \n",
       "8187  1.300314  0.265640  0.075141       2  1.061276     7  \n",
       "8188  0.760308  0.184409  0.313283       2  1.790066     7  \n",
       "8189  1.714573  0.216543 -0.763388       6  1.153544     7  \n",
       "8190  0.561357  0.908959 -0.137524       5  1.392110     9  \n",
       "8191  1.666457 -0.813706 -0.049569       4  1.786096     8  \n",
       "\n",
       "[8192 rows x 32 columns]"
      ]
     },
     "execution_count": 2,
     "metadata": {},
     "output_type": "execute_result"
    }
   ],
   "source": [
    "from copy import deepcopy\n",
    "import numpy as np\n",
    "\n",
    "nominal = [b for a, b in zip(categorical_indicator, attribute_names) if a]\n",
    "numerical = [b for a, b in zip(categorical_indicator, attribute_names) if not a]\n",
    "\n",
    "'''\n",
    "encoded_data = pd.get_dummies(X, columns=nominal)\n",
    "columns = encoded_data.columns\n",
    "updates = {}\n",
    "for col in columns:\n",
    "    if any(x in col for x in set((',', '[', ']', '<', '>'))):\n",
    "        updates[col] = col.replace(',', '_').replace('[', '_').replace(']', '_').replace('<', 'less').replace('>', 'greater')\n",
    "encoded_data = encoded_data.rename(columns=updates)\n",
    "\n",
    "encoded_data.fillna(0, inplace=True)\n",
    "encoded_data\n",
    "'''\n",
    "\n",
    "encoded_data = deepcopy(X)\n",
    "\n",
    "for col in nominal:\n",
    "    \n",
    "    mapping = {c: i+1 for i, c in enumerate(encoded_data[col].unique())}\n",
    "    encoded_data[col] = encoded_data[col].replace(mapping)\n",
    "    try:\n",
    "        encoded_data[col] = encoded_data[col].cat.add_categories([0])\n",
    "    except:\n",
    "        continue\n",
    "\n",
    "encoded_data = encoded_data[numerical + nominal]\n",
    "encoded_data.fillna(0, inplace=True)\n",
    "encoded_data"
   ]
  },
  {
   "cell_type": "code",
   "execution_count": 3,
   "id": "3f07aa44",
   "metadata": {},
   "outputs": [
    {
     "data": {
      "text/plain": [
       "['P', 'N']\n",
       "Categories (2, object): ['P' < 'N']"
      ]
     },
     "execution_count": 3,
     "metadata": {},
     "output_type": "execute_result"
    }
   ],
   "source": [
    "'''\n",
    "categorical = set()\n",
    "for cat in nominal:\n",
    "    for category in X[f'{cat}'].unique():\n",
    "        categorical.add(f'{cat}_{category}')\n",
    "categorical\n",
    "'''\n",
    "y.unique()"
   ]
  },
  {
   "cell_type": "code",
   "execution_count": 4,
   "id": "e5c57b9c",
   "metadata": {},
   "outputs": [
    {
     "data": {
      "text/plain": [
       "0       0\n",
       "1       1\n",
       "2       0\n",
       "3       1\n",
       "4       0\n",
       "       ..\n",
       "8187    0\n",
       "8188    0\n",
       "8189    0\n",
       "8190    0\n",
       "8191    0\n",
       "Name: binaryClass, Length: 8192, dtype: int64"
      ]
     },
     "execution_count": 4,
     "metadata": {},
     "output_type": "execute_result"
    }
   ],
   "source": [
    "mapping = {b: i for i, b in enumerate(y.unique())}\n",
    "\n",
    "\n",
    "y = y.replace(mapping)\n",
    "#y = pd.get_dummies(y)\n",
    "y"
   ]
  },
  {
   "cell_type": "code",
   "execution_count": 5,
   "id": "747e1b0a",
   "metadata": {},
   "outputs": [
    {
     "name": "stdout",
     "output_type": "stream",
     "text": [
      "train shape: (5734, 32)\n",
      " test shape: (1229, 32)\n",
      " dev shape: (1229, 32)\n"
     ]
    }
   ],
   "source": [
    "import numpy as np\n",
    "from sklearn.model_selection import train_test_split\n",
    "\n",
    "train_data, left_out, train_label, y_left_out = train_test_split(encoded_data, y, test_size=0.3, random_state=42)\n",
    "test_data, dev_data, test_label, dev_label = train_test_split(left_out, y_left_out, test_size=0.5, random_state=42)\n",
    "\n",
    "print(f'train shape: {train_data.shape}\\n test shape: {test_data.shape}\\n dev shape: {dev_data.shape}')"
   ]
  },
  {
   "cell_type": "code",
   "execution_count": 6,
   "id": "4715fa77",
   "metadata": {},
   "outputs": [],
   "source": [
    "from copy import deepcopy\n",
    "\n",
    "r_train_data = deepcopy(train_data)"
   ]
  },
  {
   "cell_type": "code",
   "execution_count": 7,
   "id": "4c142192",
   "metadata": {},
   "outputs": [],
   "source": [
    "from sklearn.preprocessing import Normalizer, StandardScaler\n",
    "\n",
    "nn = StandardScaler()\n",
    "\n",
    "nn.fit(train_data[numerical])\n",
    "\n",
    "train_data[numerical] = nn.transform(train_data[numerical])\n",
    "dev_data[numerical] = nn.transform(dev_data[numerical])\n",
    "test_data[numerical] = nn.transform(test_data[numerical])"
   ]
  },
  {
   "cell_type": "code",
   "execution_count": 8,
   "id": "7ad14352",
   "metadata": {},
   "outputs": [
    {
     "data": {
      "text/plain": [
       "(5734, 1229, 1229)"
      ]
     },
     "execution_count": 8,
     "metadata": {},
     "output_type": "execute_result"
    }
   ],
   "source": [
    "len(train_label), len(test_label), len(dev_label)"
   ]
  },
  {
   "cell_type": "markdown",
   "id": "a3bc7f32",
   "metadata": {},
   "source": [
    "# Build graph"
   ]
  },
  {
   "cell_type": "code",
   "execution_count": 9,
   "id": "3e6f5635",
   "metadata": {},
   "outputs": [],
   "source": [
    "index_to_name, name_to_index = dp.name_index(data=r_train_data)"
   ]
  },
  {
   "cell_type": "code",
   "execution_count": 10,
   "id": "56ddde92",
   "metadata": {},
   "outputs": [],
   "source": [
    "from imblearn.over_sampling import RandomOverSampler\n",
    "\n",
    "oversample = RandomOverSampler(sampling_strategy='minority')\n",
    "X_over, y_over = oversample.fit_resample(train_data, train_label)"
   ]
  },
  {
   "cell_type": "code",
   "execution_count": 11,
   "id": "692a4394",
   "metadata": {},
   "outputs": [
    {
     "name": "stdout",
     "output_type": "stream",
     "text": [
      "torch.Size([7902, 32])\n",
      "torch.Size([7902])\n",
      "torch.Size([1229, 32])\n",
      "torch.Size([1229])\n",
      "torch.Size([1229, 32])\n",
      "torch.Size([1229])\n"
     ]
    }
   ],
   "source": [
    "train = dp.transform_to_tensors(X_over, y_over, len(index_to_name))\n",
    "\n",
    "test = dp.transform_to_tensors(test_data, test_label, len(index_to_name))\n",
    "\n",
    "dev = dp.transform_to_tensors(dev_data, dev_label, len(index_to_name))"
   ]
  },
  {
   "cell_type": "code",
   "execution_count": 12,
   "id": "aa2b8786",
   "metadata": {},
   "outputs": [],
   "source": [
    "from imblearn.over_sampling import RandomOverSampler\n",
    "\n",
    "oversample = RandomOverSampler(sampling_strategy='minority')\n",
    "X_over, y_over = oversample.fit_resample(train_data, train_label)"
   ]
  },
  {
   "cell_type": "code",
   "execution_count": 13,
   "id": "24212b15",
   "metadata": {},
   "outputs": [],
   "source": [
    "from torch.utils.data import DataLoader\n",
    "import torch\n",
    "\n",
    "batch_size = 64\n",
    "\n",
    "train_dataset = dp.Data(data=train)\n",
    "val_dataset = dp.Data(data=dev)\n",
    "test_dataset = dp.Data(data=test)\n",
    "\n",
    "train_dataloader = DataLoader(train_dataset, batch_size=batch_size, shuffle=True, drop_last=False)\n",
    "val_dataloader = DataLoader(val_dataset, batch_size=batch_size, shuffle=False, drop_last=False)\n",
    "test_dataloader = DataLoader(test_dataset, batch_size=batch_size, shuffle=False, drop_last=False)"
   ]
  },
  {
   "cell_type": "markdown",
   "id": "fe7b1674",
   "metadata": {},
   "source": [
    "# Train IGNNet"
   ]
  },
  {
   "cell_type": "code",
   "execution_count": 14,
   "id": "4e60ec10",
   "metadata": {},
   "outputs": [],
   "source": [
    "from sklearn.metrics import roc_auc_score, roc_curve, precision_score, recall_score, f1_score"
   ]
  },
  {
   "cell_type": "code",
   "execution_count": 15,
   "id": "fb19766d",
   "metadata": {
    "scrolled": true
   },
   "outputs": [
    {
     "name": "stderr",
     "output_type": "stream",
     "text": [
      "/usr/local/lib/python3.10/dist-packages/tqdm/auto.py:21: TqdmWarning: IProgress not found. Please update jupyter and ipywidgets. See https://ipywidgets.readthedocs.io/en/stable/user_install.html\n",
      "  from .autonotebook import tqdm as notebook_tqdm\n",
      "100%|█████████████████████████████████████████████████████████████████████████████████| 124/124 [00:15<00:00,  8.22it/s]\n",
      "100%|███████████████████████████████████████████████████████████████████████████████████| 20/20 [00:01<00:00, 15.88it/s]\n"
     ]
    },
    {
     "name": "stdout",
     "output_type": "stream",
     "text": [
      "BCE loss: 0.4808279871940613\n",
      "interpretability MSE loss: 0.5320406556129456\n",
      "Acc at dev is : 0.777\n",
      "ROC is : 0.791,  prec 0.7585624367340785,  recall 0.7911543405240884, f-score 0.7632270965637111\n",
      "Acc at epoch : 1 is : 0.7126044034957886, loss : 187.89419788122177\n"
     ]
    },
    {
     "name": "stderr",
     "output_type": "stream",
     "text": [
      "100%|█████████████████████████████████████████████████████████████████████████████████| 124/124 [00:15<00:00,  8.01it/s]\n",
      "100%|███████████████████████████████████████████████████████████████████████████████████| 20/20 [00:01<00:00, 15.74it/s]\n"
     ]
    },
    {
     "name": "stdout",
     "output_type": "stream",
     "text": [
      "BCE loss: 0.4474174380302429\n",
      "interpretability MSE loss: 0.15214577317237854\n",
      "Acc at dev is : 0.786\n",
      "ROC is : 0.793,  prec 0.7635364597245011,  recall 0.793120278414396, f-score 0.7702325277215611\n",
      "Acc at epoch : 2 is : 0.8014426827430725, loss : 86.27472838759422\n"
     ]
    },
    {
     "name": "stderr",
     "output_type": "stream",
     "text": [
      "100%|█████████████████████████████████████████████████████████████████████████████████| 124/124 [00:16<00:00,  7.35it/s]\n",
      "100%|███████████████████████████████████████████████████████████████████████████████████| 20/20 [00:01<00:00, 18.24it/s]\n"
     ]
    },
    {
     "name": "stdout",
     "output_type": "stream",
     "text": [
      "BCE loss: 0.3971484899520874\n",
      "interpretability MSE loss: 0.5236657857894897\n",
      "Acc at dev is : 0.828\n",
      "ROC is : 0.786577,  prec 0.8099629483900583,  recall 0.7865767519128863, f-score 0.7961804515769509\n",
      "Acc at epoch : 3 is : 0.8191596865653992, loss : 75.02565068006516\n"
     ]
    },
    {
     "name": "stderr",
     "output_type": "stream",
     "text": [
      "100%|█████████████████████████████████████████████████████████████████████████████████| 124/124 [00:15<00:00,  8.02it/s]\n",
      "100%|███████████████████████████████████████████████████████████████████████████████████| 20/20 [00:01<00:00, 18.83it/s]\n"
     ]
    },
    {
     "name": "stdout",
     "output_type": "stream",
     "text": [
      "BCE loss: 0.44245949387550354\n",
      "interpretability MSE loss: 0.09306016564369202\n",
      "Acc at dev is : 0.801\n",
      "ROC is : 0.807,  prec 0.7775290406322396,  recall 0.8072365309760268, f-score 0.7851614758326728\n",
      "Acc at epoch : 4 is : 0.8291571736335754, loss : 65.84065616130829\n"
     ]
    },
    {
     "name": "stderr",
     "output_type": "stream",
     "text": [
      "100%|█████████████████████████████████████████████████████████████████████████████████| 124/124 [00:16<00:00,  7.65it/s]\n",
      "100%|███████████████████████████████████████████████████████████████████████████████████| 20/20 [00:01<00:00, 19.09it/s]\n"
     ]
    },
    {
     "name": "stdout",
     "output_type": "stream",
     "text": [
      "BCE loss: 0.42411941289901733\n",
      "interpretability MSE loss: 0.09398547559976578\n",
      "Acc at dev is : 0.799\n",
      "ROC is : 0.792,  prec 0.7717068274224745,  recall 0.7921259412856052, f-score 0.7789923999356408\n",
      "Acc at epoch : 5 is : 0.8453556299209595, loss : 55.602672189474106\n"
     ]
    },
    {
     "name": "stderr",
     "output_type": "stream",
     "text": [
      "100%|█████████████████████████████████████████████████████████████████████████████████| 124/124 [00:16<00:00,  7.48it/s]\n",
      "100%|███████████████████████████████████████████████████████████████████████████████████| 20/20 [00:01<00:00, 18.42it/s]\n"
     ]
    },
    {
     "name": "stdout",
     "output_type": "stream",
     "text": [
      "BCE loss: 0.4378181993961334\n",
      "interpretability MSE loss: 0.09959547966718674\n",
      "Acc at dev is : 0.808\n",
      "ROC is : 0.804690,  prec 0.781746699184257,  recall 0.8046900578413183, f-score 0.7896207364768415\n",
      "Acc at epoch : 6 is : 0.861807107925415, loss : 52.560942590236664\n"
     ]
    },
    {
     "name": "stderr",
     "output_type": "stream",
     "text": [
      "100%|█████████████████████████████████████████████████████████████████████████████████| 124/124 [00:15<00:00,  7.80it/s]\n",
      "100%|███████████████████████████████████████████████████████████████████████████████████| 20/20 [00:01<00:00, 17.31it/s]\n"
     ]
    },
    {
     "name": "stdout",
     "output_type": "stream",
     "text": [
      "BCE loss: 0.41588515043258667\n",
      "interpretability MSE loss: 0.17712752521038055\n",
      "Acc at dev is : 0.824\n",
      "ROC is : 0.802785,  prec 0.7981747510209931,  recall 0.8027847502637419, f-score 0.8003753902795575\n",
      "Acc at epoch : 7 is : 0.8816755414009094, loss : 49.38347026705742\n"
     ]
    },
    {
     "name": "stderr",
     "output_type": "stream",
     "text": [
      "100%|█████████████████████████████████████████████████████████████████████████████████| 124/124 [00:16<00:00,  7.64it/s]\n",
      "100%|███████████████████████████████████████████████████████████████████████████████████| 20/20 [00:01<00:00, 19.00it/s]\n"
     ]
    },
    {
     "name": "stdout",
     "output_type": "stream",
     "text": [
      "BCE loss: 0.4339653551578522\n",
      "interpretability MSE loss: 0.09398011863231659\n",
      "Acc at dev is : 0.810\n",
      "ROC is : 0.803179,  prec 0.7834690082878879,  recall 0.8031788472964944, f-score 0.7908375424103311\n",
      "Acc at epoch : 8 is : 0.8976208567619324, loss : 55.74305239319801\n"
     ]
    },
    {
     "name": "stderr",
     "output_type": "stream",
     "text": [
      "100%|█████████████████████████████████████████████████████████████████████████████████| 124/124 [00:15<00:00,  7.87it/s]\n",
      "100%|███████████████████████████████████████████████████████████████████████████████████| 20/20 [00:01<00:00, 17.57it/s]\n"
     ]
    },
    {
     "name": "stdout",
     "output_type": "stream",
     "text": [
      "BCE loss: 0.41901129484176636\n",
      "interpretability MSE loss: 0.11390795558691025\n",
      "Acc at dev is : 0.816\n",
      "ROC is : 0.800094,  prec 0.7887497520622586,  recall 0.8000942801362969, f-score 0.7937086309134769\n",
      "Acc at epoch : 9 is : 0.9148316979408264, loss : 44.312922567129135\n",
      "Epoch 00009: reducing learning rate of group 0 to 5.0000e-04.\n"
     ]
    },
    {
     "name": "stderr",
     "output_type": "stream",
     "text": [
      "100%|█████████████████████████████████████████████████████████████████████████████████| 124/124 [00:15<00:00,  7.76it/s]\n",
      "100%|███████████████████████████████████████████████████████████████████████████████████| 20/20 [00:01<00:00, 18.20it/s]\n"
     ]
    },
    {
     "name": "stdout",
     "output_type": "stream",
     "text": [
      "BCE loss: 0.4370655417442322\n",
      "interpretability MSE loss: 0.1086159497499466\n",
      "Acc at dev is : 0.810\n",
      "ROC is : 0.794568,  prec 0.7825174886171344,  recall 0.7945678271308523, f-score 0.7877008118846087\n",
      "Acc at epoch : 10 is : 0.9392558932304382, loss : 39.91687402129173\n"
     ]
    },
    {
     "name": "stderr",
     "output_type": "stream",
     "text": [
      "100%|█████████████████████████████████████████████████████████████████████████████████| 124/124 [00:15<00:00,  8.01it/s]\n",
      "100%|███████████████████████████████████████████████████████████████████████████████████| 20/20 [00:01<00:00, 17.83it/s]\n"
     ]
    },
    {
     "name": "stdout",
     "output_type": "stream",
     "text": [
      "BCE loss: 0.44181498885154724\n",
      "interpretability MSE loss: 0.10465782880783081\n",
      "Acc at dev is : 0.817\n",
      "ROC is : 0.794071,  prec 0.7899516968860034,  recall 0.7940706585664569, f-score 0.7919245427832937\n",
      "Acc at epoch : 11 is : 0.9457099437713623, loss : 37.825216084718704\n"
     ]
    },
    {
     "name": "stderr",
     "output_type": "stream",
     "text": [
      "100%|█████████████████████████████████████████████████████████████████████████████████| 124/124 [00:15<00:00,  7.97it/s]\n",
      "100%|███████████████████████████████████████████████████████████████████████████████████| 20/20 [00:01<00:00, 18.03it/s]\n"
     ]
    },
    {
     "name": "stdout",
     "output_type": "stream",
     "text": [
      "BCE loss: 0.44335857033729553\n",
      "interpretability MSE loss: 0.11724039167165756\n",
      "Acc at dev is : 0.815\n",
      "ROC is : 0.787571,  prec 0.7887264570169351,  recall 0.7875710890416773, f-score 0.7881422282568662\n",
      "Acc at epoch : 12 is : 0.9538091421127319, loss : 36.411593064665794\n"
     ]
    },
    {
     "name": "stderr",
     "output_type": "stream",
     "text": [
      "100%|█████████████████████████████████████████████████████████████████████████████████| 124/124 [00:15<00:00,  7.88it/s]\n",
      "100%|███████████████████████████████████████████████████████████████████████████████████| 20/20 [00:01<00:00, 17.96it/s]\n"
     ]
    },
    {
     "name": "stdout",
     "output_type": "stream",
     "text": [
      "BCE loss: 0.4512065052986145\n",
      "interpretability MSE loss: 0.10260802507400513\n",
      "Acc at dev is : 0.806\n",
      "ROC is : 0.778981,  prec 0.7782474345252133,  recall 0.7789812894854912, f-score 0.7786115215074598\n",
      "Acc at epoch : 13 is : 0.9584915041923523, loss : 35.27377012372017\n",
      "Epoch 00013: reducing learning rate of group 0 to 2.5000e-04.\n"
     ]
    },
    {
     "name": "stderr",
     "output_type": "stream",
     "text": [
      "100%|█████████████████████████████████████████████████████████████████████████████████| 124/124 [00:15<00:00,  8.04it/s]\n",
      "100%|███████████████████████████████████████████████████████████████████████████████████| 20/20 [00:01<00:00, 18.32it/s]\n"
     ]
    },
    {
     "name": "stdout",
     "output_type": "stream",
     "text": [
      "BCE loss: 0.4595947861671448\n",
      "interpretability MSE loss: 0.10264462232589722\n",
      "Acc at dev is : 0.819\n",
      "ROC is : 0.796596,  prec 0.7917213310274912,  recall 0.7965959110917094, f-score 0.7940375676823243\n",
      "Acc at epoch : 14 is : 0.9667173027992249, loss : 33.192924067378044\n"
     ]
    },
    {
     "name": "stderr",
     "output_type": "stream",
     "text": [
      "100%|█████████████████████████████████████████████████████████████████████████████████| 124/124 [00:15<00:00,  8.01it/s]\n",
      "100%|███████████████████████████████████████████████████████████████████████████████████| 20/20 [00:01<00:00, 18.51it/s]"
     ]
    },
    {
     "name": "stdout",
     "output_type": "stream",
     "text": [
      "BCE loss: 0.45824533700942993\n",
      "interpretability MSE loss: 0.10341783612966537\n",
      "Acc at dev is : 0.810\n",
      "ROC is : 0.785294,  prec 0.7827146882641689,  recall 0.7852944207986225, f-score 0.7839697150069291\n",
      "Acc at epoch : 15 is : 0.9697545170783997, loss : 32.49004474282265\n",
      "Early stopping at epoch 16\n",
      "Best validation result is at epoch: 5\n"
     ]
    },
    {
     "name": "stderr",
     "output_type": "stream",
     "text": [
      "\n"
     ]
    }
   ],
   "source": [
    "import torch\n",
    "from kanshap import train_model, KANSHAP\n",
    "torch.manual_seed(1)\n",
    "\n",
    "'''\n",
    "device = torch.device('cuda' if torch.cuda.is_available() else 'cpu')\n",
    "\n",
    "adj_matrix = torch.FloatTensor(adj_matrix)\n",
    "\n",
    "gnn_model = IGNNet(adj_matrix[0].shape[0], adj_matrix.to(device), 3, index_to_name, dataframe=train_data, \n",
    "            categorical=nominal, \n",
    "            numerical=numerical,).to(device)\n",
    "\n",
    "gnn_model.load_state_dict(torch.load(f'{data_name}/epoch[100]-0.872.model'))\n",
    "\n",
    "optimizer_train = torch.optim.Adam(gnn_model.parameters(), lr=1e-03)\n",
    "\n",
    "optimizer_train.load_state_dict(torch.load(f'{data_name}/epoch[100]-0.872.optm'))\n",
    "'''\n",
    "\n",
    "gnn_model = train_model(index_to_name=index_to_name,\n",
    "            train_dataloader=train_dataloader,\n",
    "            val_dataloader=val_dataloader,\n",
    "            data_name=data_name,\n",
    "            num_classes=1,\n",
    "            dataframe=encoded_data, \n",
    "            categorical=nominal, \n",
    "            numerical=numerical,\n",
    "            gnn_model=None, \n",
    "            optimizer_train=None, \n",
    "            current_epoch=1,\n",
    "            max_num_epochs=300,\n",
    "            learning_rate=1e-03,\n",
    "            num_samples=32,\n",
    "            alpha=1, beta=10,\n",
    "            patience=10)\n"
   ]
  },
  {
   "cell_type": "markdown",
   "id": "f5c0b171",
   "metadata": {},
   "source": [
    "## Evaluate the trained model on the test set"
   ]
  },
  {
   "cell_type": "code",
   "execution_count": 16,
   "id": "a9323f2a",
   "metadata": {},
   "outputs": [
    {
     "name": "stdout",
     "output_type": "stream",
     "text": [
      "*** Testing : ****\n"
     ]
    },
    {
     "name": "stderr",
     "output_type": "stream",
     "text": [
      "100%|██████████████████████████████████████████████████████████████████████████████████| 20/20 [00:00<00:00, 117.30it/s]"
     ]
    },
    {
     "name": "stdout",
     "output_type": "stream",
     "text": [
      "AUC is : 0.8768214444515022,  prec 0.75993935213949,  recall 0.789674776090961, f-score 0.7696276077353637\n"
     ]
    },
    {
     "name": "stderr",
     "output_type": "stream",
     "text": [
      "\n"
     ]
    }
   ],
   "source": [
    "import torch.nn as nn\n",
    "from kanshap import KANSHAP\n",
    "from tqdm import tqdm\n",
    "\n",
    "\n",
    "\n",
    "device = torch.device('cuda' if torch.cuda.is_available() else 'cpu')\n",
    "\n",
    "input_dim = 1 \n",
    "#adj_matrix = normalize_adj_matrix(adj_matrix)\n",
    "\n",
    "gnn_model = KANSHAP(len(index_to_name), 1, index_to_name, dataframe=encoded_data, \n",
    "            categorical=nominal, \n",
    "            numerical=numerical,).to(device)\n",
    "\n",
    "torch.cuda.empty_cache()\n",
    "\n",
    "gnn_model.load_state_dict(torch.load(f'{data_name}/{data_name}.model'))\n",
    "\n",
    "print('*** Testing : ****')\n",
    "gnn_model.eval()\n",
    "\n",
    "correct = 0\n",
    "count = 0\n",
    "count_2 = 0\n",
    "\n",
    "list_prediction = []\n",
    "list_pob_pred = []\n",
    "y_test = []\n",
    "\n",
    "for i, data in tqdm(list(enumerate(test_dataloader))):\n",
    "    inputs, labels = data\n",
    "\n",
    "    inputs = inputs.to(device)\n",
    "    labels = labels.to(device)\n",
    "\n",
    "    outputs = gnn_model(inputs)\n",
    "    list_pob_pred.extend(outputs.tolist())\n",
    "\n",
    "    preds = (outputs.reshape(-1) > 0.5) * 1\n",
    "\n",
    "    list_prediction.extend(preds.tolist())\n",
    "\n",
    "    count+= torch.sum(preds == labels.data)\n",
    "\n",
    "    for i in range(len(preds)):\n",
    "        if preds[i] == labels[i] == 1:\n",
    "            count_2 += 1\n",
    "\n",
    "    y_test.extend(labels.tolist())\n",
    "\n",
    "    torch.cuda.empty_cache()\n",
    "\n",
    "\n",
    "roc = roc_auc_score(y_test, list_pob_pred)\n",
    "prec = precision_score(y_test, list_prediction, average='macro')\n",
    "recall = recall_score(y_test, list_prediction, average='macro')\n",
    "f_score = f1_score(y_test, list_prediction, average='macro')\n",
    "\n",
    "print('AUC is : {},  prec {},  recall {}, f-score {}' .format(roc, prec, recall, f_score))"
   ]
  },
  {
   "cell_type": "markdown",
   "id": "27113d35",
   "metadata": {},
   "source": [
    "# Explain one example"
   ]
  },
  {
   "cell_type": "code",
   "execution_count": 17,
   "id": "3d76ff08",
   "metadata": {},
   "outputs": [
    {
     "data": {
      "image/png": "[encoded data removed]",
      "text/plain": [
       "<Figure size 640x480 with 1 Axes>"
      ]
     },
     "metadata": {},
     "output_type": "display_data"
    },
    {
     "data": {
      "text/plain": [
       "tensor([[0.3239]], grad_fn=<SigmoidBackward0>)"
      ]
     },
     "execution_count": 17,
     "metadata": {},
     "output_type": "execute_result"
    }
   ],
   "source": [
    "#num of features to use\n",
    "top_n = 10\n",
    "\n",
    "gnn_model.plot_bars(test[10][0].reshape(1, len(index_to_name)).to(device), test_data.iloc[0], top_n)\n",
    "gnn_model.predict(test[10][0].reshape(1, len(index_to_name)).to(device))"
   ]
  },
  {
   "cell_type": "markdown",
   "id": "1ed58d30",
   "metadata": {},
   "source": [
    "# Interpretability Evaluation"
   ]
  },
  {
   "cell_type": "code",
   "execution_count": 18,
   "id": "152f47a7",
   "metadata": {},
   "outputs": [],
   "source": [
    "'''function to obtain feature scores from IGNNet model'''\n",
    "\n",
    "def get_local_values(example, index_to_name):\n",
    "    array_to_use = np.array(example)    \n",
    "    array = torch.FloatTensor(array_to_use).reshape(1, len(index_to_name))\n",
    "    local_importance = gnn_model.get_local_importance(array.to(device))[-1]\n",
    "\n",
    "    names = []\n",
    "    values = []\n",
    "    for i, v in enumerate(local_importance):\n",
    "        name = index_to_name[i]\n",
    "        names.append(name)\n",
    "        values.append(v)\n",
    "    return names, values"
   ]
  },
  {
   "cell_type": "code",
   "execution_count": 19,
   "id": "fe711de1",
   "metadata": {},
   "outputs": [],
   "source": [
    "from sklearn.preprocessing import StandardScaler\n",
    "from data_preprocess import BlackBoxWrapper\n",
    "\n",
    "\n",
    "num_features = len(index_to_name)\n",
    "\n",
    "\n",
    "bb = BlackBoxWrapper(gnn_model, num_features, device)\n",
    "\n",
    "def black_box(x, S):\n",
    "    pred = bb(x, S)\n",
    "    return pred.cpu().data.numpy()"
   ]
  },
  {
   "cell_type": "code",
   "execution_count": 20,
   "id": "2b372b60",
   "metadata": {},
   "outputs": [],
   "source": [
    "'''\n",
    "Evaluate a black-box model.\n",
    "  x: input examples.\n",
    "  S: coalitions.\n",
    "'''\n",
    "\n",
    "x = test_dataset[0][0]\n",
    "x = x.reshape((1,x.shape[0])).numpy()\n",
    "\n",
    "'''compute the feature scores on a vector of all features masked'''\n",
    "S = np.zeros_like(x)\n",
    "_, null =  get_local_values(S, index_to_name)"
   ]
  },
  {
   "cell_type": "code",
   "execution_count": 21,
   "id": "1ba52a7b",
   "metadata": {},
   "outputs": [
    {
     "data": {
      "text/plain": [
       "[-0.1120305,\n",
       " -0.11327777,\n",
       " -0.045529064,\n",
       " -0.09360093,\n",
       " -0.14330241,\n",
       " -0.2974963,\n",
       " -0.12752435,\n",
       " -0.15266919,\n",
       " -0.07762538,\n",
       " -0.18613371,\n",
       " -0.14932077,\n",
       " -0.57877856,\n",
       " -0.13530391,\n",
       " -0.08698489,\n",
       " -0.07541362,\n",
       " -0.13599047,\n",
       " -0.0838942,\n",
       " -0.30649203,\n",
       " -0.08499193,\n",
       " -0.07318349,\n",
       " -0.08651951,\n",
       " -0.1298451,\n",
       " -0.1549896,\n",
       " -0.0916505,\n",
       " -0.14153172,\n",
       " -0.065582536,\n",
       " -0.045239247,\n",
       " -0.14952749,\n",
       " -0.10331124,\n",
       " -0.17542613,\n",
       " -0.09330843,\n",
       " -0.14889814]"
      ]
     },
     "execution_count": 21,
     "metadata": {},
     "output_type": "execute_result"
    }
   ],
   "source": [
    "null"
   ]
  },
  {
   "cell_type": "markdown",
   "id": "9dc8c4b6",
   "metadata": {},
   "source": [
    "## Explain 500 examples and compare KernelSHAP to IGNNet after each iteration of data sampling"
   ]
  },
  {
   "cell_type": "code",
   "execution_count": 22,
   "id": "bbfb4e5a",
   "metadata": {
    "scrolled": true
   },
   "outputs": [
    {
     "name": "stderr",
     "output_type": "stream",
     "text": [
      "  2%|█▏                                                                             | 19/1229 [03:38<4:01:25, 11.97s/it]"
     ]
    },
    {
     "name": "stdout",
     "output_type": "stream",
     "text": [
      "Singularity exception!\n"
     ]
    },
    {
     "name": "stderr",
     "output_type": "stream",
     "text": [
      "  4%|███▏                                                                           | 50/1229 [09:10<3:36:11, 11.00s/it]"
     ]
    },
    {
     "name": "stdout",
     "output_type": "stream",
     "text": [
      "saving explanations\n"
     ]
    },
    {
     "name": "stderr",
     "output_type": "stream",
     "text": [
      "\n"
     ]
    }
   ],
   "source": [
    "from tqdm import tqdm\n",
    "import shapreg\n",
    "import pickle\n",
    "import os.path\n",
    "from numpy.linalg import norm\n",
    "from scipy.stats import spearmanr\n",
    "import copy\n",
    "\n",
    "if os.path.isfile(f'{data_name}_exp.pickle'):\n",
    "    print('Loading saved explanations')\n",
    "\n",
    "    with open(f'{data_name}_exp.pickle', 'rb') as file:\n",
    "        all_instance_results_loaded = pickle.load(file)\n",
    "        \n",
    "    all_l2_distances = []\n",
    "    all_cos_sim = []\n",
    "    all_spearman_c = []\n",
    "\n",
    "    for x, all_results in tqdm(all_instance_results_loaded):\n",
    "\n",
    "        _, true_values = get_local_values(x, feature_global_importance, adj_matrix, index_to_name)\n",
    "        \n",
    "        instance_l2_dis = []\n",
    "        instance_cos_sim = []\n",
    "        spearman_c = []\n",
    "        \n",
    "        '''the Shapley values for an input x sum to the difference p(y=1 | x) - p(y=1)'''\n",
    "        true_values = np.array(true_values) - null\n",
    "\n",
    "        for i in list(all_results['iters']):\n",
    "\n",
    "            knl_shp = all_results['values'][list(all_results['iters']).index(i)].reshape(-1)\n",
    "\n",
    "            instance_l2_dis.append(norm(true_values - knl_shp))\n",
    "            instance_cos_sim.append(np.dot(true_values, knl_shp)/(norm(true_values)*norm(knl_shp)))\n",
    "            coef, p = spearmanr(true_values, knl_shp)\n",
    "            spearman_c.append(coef)\n",
    "            \n",
    "        all_l2_distances.append(instance_l2_dis)\n",
    "        all_cos_sim.append(instance_cos_sim)\n",
    "        all_spearman_c.append(spearman_c)\n",
    "\n",
    "else:\n",
    "    \n",
    "    all_l2_distances = []\n",
    "    all_cos_sim = []\n",
    "    all_instance_results = []\n",
    "    all_spearman_c = []\n",
    "\n",
    "    count = 1\n",
    "    for x_, _ in tqdm(test_dataset):\n",
    "        _, true_values = get_local_values(x_, index_to_name)\n",
    "\n",
    "        x = x_.reshape((1,x_.shape[0])).numpy()\n",
    "\n",
    "        # Run KernelSHAP to convergence\n",
    "        game_ = shapreg.games.PredictionGame(black_box, x)\n",
    "        try:\n",
    "            '''more examples are available here'''\n",
    "            shap_values, all_results = shapreg.shapley.ShapleyRegression(\n",
    "                game_, batch_size=32, n_samples=3000, paired_sampling=True, detect_convergence=False,\n",
    "                bar=False, return_all=True)\n",
    "        except:\n",
    "            print('Singularity exception!')\n",
    "            continue\n",
    "\n",
    "        instance_l2_dis = []\n",
    "        instance_cos_sim = []\n",
    "        spearman_c = []\n",
    "\n",
    "        true_values = np.array(true_values) #- null\n",
    "\n",
    "        for i in list(all_results['iters']):\n",
    "\n",
    "            knl_shp = all_results['values'][list(all_results['iters']).index(i)].reshape(-1)\n",
    "\n",
    "            instance_l2_dis.append(norm(true_values - knl_shp))\n",
    "            instance_cos_sim.append(np.dot(true_values, knl_shp)/(norm(true_values)*norm(knl_shp)))\n",
    "            coef, p = spearmanr(true_values, knl_shp)\n",
    "            spearman_c.append(coef)\n",
    "            \n",
    "        all_l2_distances.append(instance_l2_dis)\n",
    "        all_cos_sim.append(instance_cos_sim)\n",
    "        all_spearman_c.append(spearman_c)\n",
    "\n",
    "        all_instance_results.append((copy.deepcopy(x_), copy.deepcopy(all_results)))\n",
    "        \n",
    "        count += 1\n",
    "        if count > 50:\n",
    "            break\n",
    "    print('saving explanations')\n",
    "\n",
    "    #with open(f'{data_name}_exp.pickle', 'wb') as file:\n",
    "    #    pickle.dump(all_instance_results, file)\n"
   ]
  },
  {
   "cell_type": "code",
   "execution_count": 24,
   "id": "15fb9303",
   "metadata": {},
   "outputs": [
    {
     "data": {
      "image/png": "[encoded data removed]",
      "text/plain": [
       "<Figure size 800x600 with 1 Axes>"
      ]
     },
     "metadata": {},
     "output_type": "display_data"
    }
   ],
   "source": [
    "\n",
    "\n",
    "'''Plot the computed similarity scores'''\n",
    "\n",
    "mean_cos_sim = np.mean(all_cos_sim, axis=0)\n",
    "mean_spearman_c = np.mean(all_spearman_c, axis=0)\n",
    "\n",
    "\n",
    "\n",
    "import matplotlib.pyplot as plt  \n",
    "# Plot the line graph\n",
    "import seaborn as sb\n",
    "sb.set(rc={'figure.figsize':(8,6)})\n",
    "sb.set_theme(style='whitegrid')\n",
    "\n",
    "plt.plot(all_results['iters'], mean_cos_sim, \"r-\", linewidth=10, alpha=0.2)\n",
    "plt.plot(all_results['iters'], mean_spearman_c, \"b-\", linewidth=10, alpha=0.2)\n",
    "\n",
    "plt.plot(all_results['iters'], mean_cos_sim, \"r-\", label='Cosine Similarity', linewidth=2)\n",
    "plt.plot(all_results['iters'], mean_spearman_c, \"b-\", label='Spearman Correlation', linewidth=2)\n",
    "\n",
    "# Add labels and title\n",
    "plt.xlabel('# Evals', fontsize=18)\n",
    "plt.ylabel('Mean Value', fontsize=18)\n",
    "plt.title('Bank32nh', fontsize=20, fontweight='bold')\n",
    "#plt.legend(fontsize=16)\n",
    "\n",
    "plt.xticks(fontsize=16)\n",
    "plt.yticks(fontsize=16)\n",
    "\n",
    "\n",
    "ax = plt.gca()\n",
    "\n",
    "ax.spines['bottom'].set_color('black')\n",
    "ax.spines['left'].set_color('black')\n",
    "\n",
    "# Display the graph\n",
    "plt.show()"
   ]
  },
  {
   "cell_type": "code",
   "execution_count": 27,
   "id": "44a92139",
   "metadata": {},
   "outputs": [
    {
     "data": {
      "image/png": "[encoded data removed]",
      "text/plain": [
       "<Figure size 576x432 with 1 Axes>"
      ]
     },
     "metadata": {},
     "output_type": "display_data"
    }
   ],
   "source": [
    "\n",
    "\n",
    "'''Plot the computed similarity scores'''\n",
    "\n",
    "mean_cos_sim = np.mean(all_cos_sim, axis=0)\n",
    "mean_spearman_c = np.mean(all_spearman_c, axis=0)\n",
    "\n",
    "import matplotlib.pyplot as plt  \n",
    "# Plot the line graph\n",
    "import seaborn as sb\n",
    "sb.set(rc={'figure.figsize':(8,6)})\n",
    "sb.set_theme(style='whitegrid')\n",
    "\n",
    "plt.plot(all_results['iters'], mean_cos_sim, \"r-\", linewidth=10, alpha=0.2)\n",
    "plt.plot(all_results['iters'], mean_spearman_c, \"b-\", linewidth=10, alpha=0.2)\n",
    "\n",
    "plt.plot(all_results['iters'], mean_cos_sim, \"r-\", label='Cosine Similarity', linewidth=2)\n",
    "plt.plot(all_results['iters'], mean_spearman_c, \"b-\", label='Spearman Correlation', linewidth=2)\n",
    "\n",
    "# Add labels and title\n",
    "plt.xlabel('# Evals', fontsize=18)\n",
    "plt.ylabel('Mean Value', fontsize=18)\n",
    "plt.title('Bank32nh', fontsize=20, fontweight='bold')\n",
    "#plt.legend(fontsize=16)\n",
    "\n",
    "plt.xticks(fontsize=16)\n",
    "plt.yticks(fontsize=16)\n",
    "\n",
    "\n",
    "ax = plt.gca()\n",
    "\n",
    "ax.spines['bottom'].set_color('black')\n",
    "ax.spines['left'].set_color('black')\n",
    "\n",
    "# Display the graph\n",
    "plt.show()"
   ]
  },
  {
   "cell_type": "code",
   "execution_count": null,
   "id": "566247eb",
   "metadata": {},
   "outputs": [],
   "source": []
  }
 ],
 "metadata": {
  "kernelspec": {
   "display_name": "Python 3 (ipykernel)",
   "language": "python",
   "name": "python3"
  },
  "language_info": {
   "codemirror_mode": {
    "name": "ipython",
    "version": 3
   },
   "file_extension": ".py",
   "mimetype": "text/x-python",
   "name": "python",
   "nbconvert_exporter": "python",
   "pygments_lexer": "ipython3",
   "version": "3.10.12"
  }
 },
 "nbformat": 4,
 "nbformat_minor": 5
}
