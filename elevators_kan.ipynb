{
 "cells": [
  {
   "cell_type": "code",
   "execution_count": 1,
   "id": "34f98c97",
   "metadata": {
    "scrolled": true
   },
   "outputs": [],
   "source": [
    "import pandas as pd\n",
    "import openml\n",
    "import data_preprocess as dp\n",
    "\n",
    "data_name = 'elevators'\n",
    "\n",
    "data = openml.datasets.get_dataset(846)\n",
    "\n",
    "X, y, categorical_indicator, attribute_names = data.get_data(\n",
    "    target=data.default_target_attribute, dataset_format=\"dataframe\"\n",
    ")"
   ]
  },
  {
   "cell_type": "markdown",
   "id": "a854335e",
   "metadata": {},
   "source": [
    "# Data Preprocessing"
   ]
  },
  {
   "cell_type": "code",
   "execution_count": 2,
   "id": "b83124ce",
   "metadata": {},
   "outputs": [],
   "source": [
    "from copy import deepcopy\n",
    "import numpy as np\n",
    "\n",
    "nominal = [b for a, b in zip(categorical_indicator, attribute_names) if a]\n",
    "numerical = [b for a, b in zip(categorical_indicator, attribute_names) if not a]\n",
    "\n",
    "\n",
    "encoded_data = deepcopy(X)\n",
    "\n",
    "for col in nominal:\n",
    "    \n",
    "    mapping = {c: i+1 for i, c in enumerate(encoded_data[col].unique())}\n",
    "    encoded_data[col] = encoded_data[col].replace(mapping)\n",
    "    try:\n",
    "        encoded_data[col] = encoded_data[col].cat.add_categories([0])\n",
    "    except:\n",
    "        continue\n",
    "\n",
    "encoded_data = encoded_data[numerical + nominal]\n",
    "encoded_data.fillna(0, inplace=True)"
   ]
  },
  {
   "cell_type": "code",
   "execution_count": 3,
   "id": "e5c57b9c",
   "metadata": {},
   "outputs": [],
   "source": [
    "mapping = {b: i for i, b in enumerate(y.unique())}\n",
    "\n",
    "y = y.replace(mapping)"
   ]
  },
  {
   "cell_type": "code",
   "execution_count": 4,
   "id": "747e1b0a",
   "metadata": {},
   "outputs": [],
   "source": [
    "import numpy as np\n",
    "from sklearn.model_selection import train_test_split\n",
    "\n",
    "train_data, left_out, train_label, y_left_out = train_test_split(encoded_data, y, test_size=0.3, \n",
    "                                                                 stratify=y, random_state=42)\n",
    "test_data, dev_data, test_label, dev_label = train_test_split(left_out, y_left_out, test_size=0.5, \n",
    "                                                              stratify=y_left_out, random_state=42)\n"
   ]
  },
  {
   "cell_type": "code",
   "execution_count": 5,
   "id": "4c142192",
   "metadata": {},
   "outputs": [],
   "source": [
    "from sklearn.preprocessing import Normalizer, StandardScaler\n",
    "\n",
    "ss = StandardScaler()\n",
    "\n",
    "ss.fit(train_data[numerical])\n",
    "\n",
    "train_data[numerical] = ss.transform(train_data[numerical])\n",
    "dev_data[numerical] = ss.transform(dev_data[numerical])\n",
    "test_data[numerical] = ss.transform(test_data[numerical])"
   ]
  },
  {
   "cell_type": "code",
   "execution_count": 6,
   "id": "3e6f5635",
   "metadata": {},
   "outputs": [],
   "source": [
    "index_to_name, name_to_index = dp.name_index(data=encoded_data)"
   ]
  },
  {
   "cell_type": "code",
   "execution_count": 7,
   "id": "d0875dce-a0f8-4f23-b823-c21aaf035772",
   "metadata": {},
   "outputs": [],
   "source": [
    "from imblearn.over_sampling import RandomOverSampler\n",
    "\n",
    "oversample = RandomOverSampler(sampling_strategy='minority')\n",
    "X_over, y_over = oversample.fit_resample(train_data, train_label)"
   ]
  },
  {
   "cell_type": "code",
   "execution_count": 8,
   "id": "56ddde92",
   "metadata": {},
   "outputs": [
    {
     "name": "stdout",
     "output_type": "stream",
     "text": [
      "torch.Size([16056, 18])\n",
      "torch.Size([16056])\n",
      "torch.Size([2490, 18])\n",
      "torch.Size([2490])\n",
      "torch.Size([2490, 18])\n",
      "torch.Size([2490])\n"
     ]
    }
   ],
   "source": [
    "train = dp.transform_to_tensors(X_over, y_over, len(index_to_name))\n",
    "\n",
    "test = dp.transform_to_tensors(test_data, test_label, len(index_to_name))\n",
    "\n",
    "dev = dp.transform_to_tensors(dev_data, dev_label, len(index_to_name))\n"
   ]
  },
  {
   "cell_type": "code",
   "execution_count": 9,
   "id": "61e49abd-ca26-46ff-b249-2cd68a8db382",
   "metadata": {},
   "outputs": [],
   "source": [
    "from torch.utils.data import DataLoader\n",
    "import torch\n",
    "\n",
    "batch_size = 64\n",
    "\n",
    "train_dataset = dp.Data(data=train)\n",
    "val_dataset = dp.Data(data=dev)\n",
    "test_dataset = dp.Data(data=test)\n",
    "\n",
    "train_dataloader = DataLoader(train_dataset, batch_size=batch_size, shuffle=True, drop_last=False)\n",
    "val_dataloader = DataLoader(val_dataset, batch_size=batch_size, shuffle=False, drop_last=False)\n",
    "test_dataloader = DataLoader(test_dataset, batch_size=batch_size, shuffle=False, drop_last=False)"
   ]
  },
  {
   "cell_type": "markdown",
   "id": "fe7b1674",
   "metadata": {},
   "source": [
    "# Train KAN"
   ]
  },
  {
   "cell_type": "code",
   "execution_count": 10,
   "id": "fb19766d",
   "metadata": {
    "scrolled": true
   },
   "outputs": [
    {
     "name": "stdout",
     "output_type": "stream",
     "text": [
      "Loading saved model\n"
     ]
    }
   ],
   "source": [
    "import torch\n",
    "import os.path\n",
    "from kanshap import train_model, KANSHAP\n",
    "from sklearn.metrics import roc_auc_score, roc_curve, precision_score, recall_score, f1_score\n",
    "torch.manual_seed(5)\n",
    "\n",
    "device = torch.device('cuda' if torch.cuda.is_available() else 'cpu')\n",
    "\n",
    "if os.path.isfile(f'{data_name}/{data_name}_kan.model'):\n",
    "    \n",
    "    print('Loading saved model')\n",
    "    kan_model = KANSHAP(len(index_to_name), 1, index_to_name, dataframe=encoded_data, \n",
    "            categorical=nominal, \n",
    "            numerical=numerical,).to(device)\n",
    "    kan_model.load_state_dict(torch.load(f'{data_name}/{data_name}_kan.model'))\n",
    "    \n",
    "else:\n",
    "    kan_model = train_model(index_to_name=index_to_name,\n",
    "                train_dataloader=train_dataloader,\n",
    "                val_dataloader=val_dataloader,\n",
    "                data_name=data_name,\n",
    "                num_classes=1,\n",
    "                dataframe=encoded_data, \n",
    "                categorical=nominal, \n",
    "                numerical=numerical,\n",
    "                kan_model=None, \n",
    "                optimizer_train=None, \n",
    "                current_epoch=1,\n",
    "                max_num_epochs=300,\n",
    "                learning_rate=1e-03,\n",
    "                num_samples=32,\n",
    "                alpha=1, beta=10,\n",
    "                patience=10)\n"
   ]
  },
  {
   "cell_type": "markdown",
   "id": "f5c0b171",
   "metadata": {},
   "source": [
    "## Evaluate the trained model on the test set"
   ]
  },
  {
   "cell_type": "code",
   "execution_count": 11,
   "id": "a9323f2a",
   "metadata": {},
   "outputs": [
    {
     "name": "stderr",
     "output_type": "stream",
     "text": [
      "100%|██████████████████████████████████████████████████████████████████████████████████| 39/39 [00:01<00:00, 34.44it/s]"
     ]
    },
    {
     "name": "stdout",
     "output_type": "stream",
     "text": [
      "AUC is : 0.9379152823920266,  prec 0.8678277291656338,  recall 0.8585359408033826, f-score 0.8629316929174493\n"
     ]
    },
    {
     "name": "stderr",
     "output_type": "stream",
     "text": [
      "\n"
     ]
    }
   ],
   "source": [
    "from tqdm import tqdm\n",
    "\n",
    "\n",
    "list_prediction = []\n",
    "list_pob_pred = []\n",
    "y_test = []\n",
    "\n",
    "for i, data in tqdm(list(enumerate(test_dataloader))):\n",
    "    inputs, labels = data\n",
    "\n",
    "    inputs = inputs.to(device)\n",
    "    labels = labels.to(device)\n",
    "\n",
    "    outputs = kan_model(inputs)\n",
    "    list_pob_pred.extend(outputs.tolist())\n",
    "\n",
    "    preds = (outputs.reshape(-1) > 0.5) * 1\n",
    "\n",
    "    list_prediction.extend(preds.tolist())\n",
    "\n",
    "    y_test.extend(labels.tolist())\n",
    "\n",
    "    torch.cuda.empty_cache()\n",
    "\n",
    "\n",
    "roc = roc_auc_score(y_test, list_pob_pred)\n",
    "prec = precision_score(y_test, list_prediction, average='macro')\n",
    "recall = recall_score(y_test, list_prediction, average='macro')\n",
    "f_score = f1_score(y_test, list_prediction, average='macro')\n",
    "\n",
    "print('AUC is : {},  prec {},  recall {}, f-score {}' .format(roc, prec, recall, f_score))"
   ]
  },
  {
   "cell_type": "markdown",
   "id": "27113d35",
   "metadata": {},
   "source": [
    "# Explain one random example"
   ]
  },
  {
   "cell_type": "code",
   "execution_count": 13,
   "id": "3d76ff08",
   "metadata": {},
   "outputs": [
    {
     "data": {
      "image/png": "[encoded data removed]",
      "text/plain": [
       "<Figure size 576x576 with 1 Axes>"
      ]
     },
     "metadata": {},
     "output_type": "display_data"
    },
    {
     "data": {
      "text/plain": [
       "tensor([[0.3745]], device='cuda:0', grad_fn=<SigmoidBackward0>)"
      ]
     },
     "execution_count": 13,
     "metadata": {},
     "output_type": "execute_result"
    }
   ],
   "source": [
    "#num of features to use\n",
    "top_n = 10\n",
    "ind = np.random.choice(len(test))\n",
    "\n",
    "kan_model.plot_bars(test[ind][0].reshape(1, len(index_to_name)).to(device), test_data.iloc[0], top_n)\n",
    "kan_model.predict(test[ind][0].reshape(1, len(index_to_name)).to(device))"
   ]
  },
  {
   "cell_type": "markdown",
   "id": "1ed58d30",
   "metadata": {},
   "source": [
    "# Interpretability Evaluation"
   ]
  },
  {
   "cell_type": "code",
   "execution_count": 14,
   "id": "152f47a7",
   "metadata": {},
   "outputs": [],
   "source": [
    "'''function to obtain feature scores from KAN model'''\n",
    "\n",
    "def get_local_values(example, index_to_name):\n",
    "    array_to_use = np.array(example)    \n",
    "    array = torch.FloatTensor(array_to_use).reshape(1, len(index_to_name))\n",
    "    local_importance = kan_model.get_local_importance(array.to(device))[-1]\n",
    "\n",
    "    names = []\n",
    "    values = []\n",
    "    for i, v in enumerate(local_importance):\n",
    "        name = index_to_name[i]\n",
    "        names.append(name)\n",
    "        values.append(v)\n",
    "    return names, values"
   ]
  },
  {
   "cell_type": "code",
   "execution_count": 15,
   "id": "fe711de1",
   "metadata": {},
   "outputs": [],
   "source": [
    "from data_preprocess import BlackBoxWrapper\n",
    "\n",
    "\n",
    "num_features = len(index_to_name)\n",
    "\n",
    "\n",
    "bb = BlackBoxWrapper(kan_model, num_features, device)\n",
    "\n",
    "def black_box(x, S):\n",
    "    pred = bb(x, S)\n",
    "    return pred.cpu().data.numpy()"
   ]
  },
  {
   "cell_type": "code",
   "execution_count": 21,
   "id": "c208c010",
   "metadata": {},
   "outputs": [
    {
     "name": "stdout",
     "output_type": "stream",
     "text": [
      "Cosine similarity: 0.9659984761853376 +- 0.02401544734843622,  Spearman rank: 0.92025729336334 +- 0.06396025962210482\n"
     ]
    }
   ],
   "source": [
    "from tqdm import tqdm\n",
    "import shapreg\n",
    "import pickle\n",
    "import os.path\n",
    "from numpy.linalg import norm\n",
    "from scipy.stats import spearmanr\n",
    "import copy\n",
    "\n",
    "all_cos_sim = []\n",
    "all_spearman_c = []\n",
    "all_krnl = []\n",
    "\n",
    "count = 1\n",
    "for x_, _ in tqdm(test_dataset):\n",
    "    _, kan_values = get_local_values(x_, index_to_name)\n",
    "\n",
    "    x = x_.reshape((1,x_.shape[0])).numpy()\n",
    "\n",
    "    # Run KernelSHAP to convergence\n",
    "    game_ = shapreg.games.PredictionGame(black_box, x)\n",
    "    try:\n",
    "        shap_values, all_results = shapreg.shapley.ShapleyRegression(\n",
    "            game_, batch_size=256, paired_sampling=True, detect_convergence=True,\n",
    "            bar=False, return_all=True)\n",
    "    except:\n",
    "        print('Singularity exception!')\n",
    "        continue\n",
    "\n",
    "    instance_l2_dis = []\n",
    "    instance_cos_sim = []\n",
    "    spearman_c = []\n",
    "\n",
    "    kan_values = np.array(kan_values)\n",
    "\n",
    "    knl_shp = shap_values.values.reshape(-1)\n",
    "    all_krnl.append(shap_values)\n",
    "\n",
    "    all_cos_sim.append(np.dot(kan_values, knl_shp)/(norm(kan_values)*norm(knl_shp)))\n",
    "    coef, p = spearmanr(kan_values, knl_shp)\n",
    "    all_spearman_c.append(coef)\n",
    "\n",
    "mean_cos_sim = np.mean(all_cos_sim)\n",
    "mean_spearman_c = np.mean(all_spearman_c)\n",
    "\n",
    "std_cos_sim = np.std(all_cos_sim)\n",
    "std_spearman_c = np.std(all_spearman_c)\n",
    "\n",
    "print('Cosine similarity: {} +- {},  Spearman rank: {} +- {}' .format(mean_cos_sim, std_cos_sim, \n",
    "                                                                      mean_spearman_c, std_spearman_c))\n",
    "\n",
    "with open(f'{data_name}/{data_name}_krnlshp_kan.pickle', 'wb') as file:\n",
    "    pickle.dump(all_krnl, file)"
   ]
  },
  {
   "cell_type": "code",
   "execution_count": null,
   "id": "e69ac62f",
   "metadata": {},
   "outputs": [],
   "source": []
  }
 ],
 "metadata": {
  "kernelspec": {
   "display_name": "Python 3",
   "language": "python",
   "name": "python3"
  },
  "language_info": {
   "codemirror_mode": {
    "name": "ipython",
    "version": 3
   },
   "file_extension": ".py",
   "mimetype": "text/x-python",
   "name": "python",
   "nbconvert_exporter": "python",
   "pygments_lexer": "ipython3",
   "version": "3.8.8"
  }
 },
 "nbformat": 4,
 "nbformat_minor": 5
}
