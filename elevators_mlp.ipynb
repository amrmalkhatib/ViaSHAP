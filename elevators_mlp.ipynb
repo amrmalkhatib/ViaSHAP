{
 "cells": [
  {
   "cell_type": "code",
   "execution_count": 1,
   "id": "34f98c97",
   "metadata": {
    "scrolled": true
   },
   "outputs": [],
   "source": [
    "import pandas as pd\n",
    "import openml\n",
    "import data_preprocess as dp\n",
    "\n",
    "data_name = 'elevators'\n",
    "\n",
    "data = openml.datasets.get_dataset(846)\n",
    "\n",
    "X, y, categorical_indicator, attribute_names = data.get_data(\n",
    "    target=data.default_target_attribute, dataset_format=\"dataframe\"\n",
    ")"
   ]
  },
  {
   "cell_type": "markdown",
   "id": "a854335e",
   "metadata": {},
   "source": [
    "# Data Preprocessing"
   ]
  },
  {
   "cell_type": "code",
   "execution_count": 2,
   "id": "b83124ce",
   "metadata": {},
   "outputs": [],
   "source": [
    "from copy import deepcopy\n",
    "import numpy as np\n",
    "\n",
    "nominal = [b for a, b in zip(categorical_indicator, attribute_names) if a]\n",
    "numerical = [b for a, b in zip(categorical_indicator, attribute_names) if not a]\n",
    "\n",
    "\n",
    "encoded_data = deepcopy(X)\n",
    "\n",
    "for col in nominal:\n",
    "    \n",
    "    mapping = {c: i+1 for i, c in enumerate(encoded_data[col].unique())}\n",
    "    encoded_data[col] = encoded_data[col].replace(mapping)\n",
    "    try:\n",
    "        encoded_data[col] = encoded_data[col].cat.add_categories([0])\n",
    "    except:\n",
    "        continue\n",
    "\n",
    "encoded_data = encoded_data[numerical + nominal]\n",
    "encoded_data.fillna(0, inplace=True)"
   ]
  },
  {
   "cell_type": "code",
   "execution_count": 3,
   "id": "e5c57b9c",
   "metadata": {},
   "outputs": [],
   "source": [
    "mapping = {b: i for i, b in enumerate(y.unique())}\n",
    "\n",
    "\n",
    "y = y.replace(mapping)"
   ]
  },
  {
   "cell_type": "code",
   "execution_count": 4,
   "id": "747e1b0a",
   "metadata": {},
   "outputs": [],
   "source": [
    "import numpy as np\n",
    "from sklearn.model_selection import train_test_split\n",
    "\n",
    "train_data, left_out, train_label, y_left_out = train_test_split(encoded_data, y, test_size=0.3, \n",
    "                                                                 stratify=y, random_state=42)\n",
    "test_data, dev_data, test_label, dev_label = train_test_split(left_out, y_left_out, test_size=0.5, \n",
    "                                                              stratify=y_left_out, random_state=42)"
   ]
  },
  {
   "cell_type": "code",
   "execution_count": 5,
   "id": "4c142192",
   "metadata": {},
   "outputs": [],
   "source": [
    "from sklearn.preprocessing import Normalizer, StandardScaler\n",
    "\n",
    "ss = StandardScaler()\n",
    "\n",
    "ss.fit(train_data[numerical])\n",
    "\n",
    "train_data[numerical] = ss.transform(train_data[numerical])\n",
    "dev_data[numerical] = ss.transform(dev_data[numerical])\n",
    "test_data[numerical] = ss.transform(test_data[numerical])"
   ]
  },
  {
   "cell_type": "code",
   "execution_count": 6,
   "id": "3e6f5635",
   "metadata": {},
   "outputs": [],
   "source": [
    "index_to_name, name_to_index = dp.name_index(data=encoded_data)"
   ]
  },
  {
   "cell_type": "code",
   "execution_count": 7,
   "id": "d0875dce-a0f8-4f23-b823-c21aaf035772",
   "metadata": {},
   "outputs": [],
   "source": [
    "from imblearn.over_sampling import RandomOverSampler\n",
    "\n",
    "oversample = RandomOverSampler(sampling_strategy='minority')\n",
    "X_over, y_over = oversample.fit_resample(train_data, train_label)"
   ]
  },
  {
   "cell_type": "code",
   "execution_count": 8,
   "id": "56ddde92",
   "metadata": {},
   "outputs": [
    {
     "name": "stdout",
     "output_type": "stream",
     "text": [
      "torch.Size([16056, 18])\n",
      "torch.Size([16056])\n",
      "torch.Size([2490, 18])\n",
      "torch.Size([2490])\n",
      "torch.Size([2490, 18])\n",
      "torch.Size([2490])\n"
     ]
    }
   ],
   "source": [
    "train = dp.transform_to_tensors(X_over, y_over, len(index_to_name))\n",
    "\n",
    "test = dp.transform_to_tensors(test_data, test_label, len(index_to_name))\n",
    "\n",
    "dev = dp.transform_to_tensors(dev_data, dev_label, len(index_to_name))\n"
   ]
  },
  {
   "cell_type": "code",
   "execution_count": 9,
   "id": "61e49abd-ca26-46ff-b249-2cd68a8db382",
   "metadata": {},
   "outputs": [],
   "source": [
    "from torch.utils.data import DataLoader\n",
    "import torch\n",
    "\n",
    "batch_size = 64\n",
    "\n",
    "train_dataset = dp.Data(data=train)\n",
    "val_dataset = dp.Data(data=dev)\n",
    "test_dataset = dp.Data(data=test)\n",
    "\n",
    "train_dataloader = DataLoader(train_dataset, batch_size=batch_size, shuffle=True, drop_last=False)\n",
    "val_dataloader = DataLoader(val_dataset, batch_size=batch_size, shuffle=False, drop_last=False)\n",
    "test_dataloader = DataLoader(test_dataset, batch_size=batch_size, shuffle=False, drop_last=False)"
   ]
  },
  {
   "cell_type": "markdown",
   "id": "fe7b1674",
   "metadata": {},
   "source": [
    "# Train MLP"
   ]
  },
  {
   "cell_type": "code",
   "execution_count": 10,
   "id": "fb19766d",
   "metadata": {
    "scrolled": true
   },
   "outputs": [
    {
     "name": "stdout",
     "output_type": "stream",
     "text": [
      "Loading saved model\n"
     ]
    }
   ],
   "source": [
    "import torch\n",
    "import os.path\n",
    "from mlpshap import train_model, MLPSHAP\n",
    "from sklearn.metrics import roc_auc_score, roc_curve, precision_score, recall_score, f1_score\n",
    "torch.manual_seed(5)\n",
    "\n",
    "device = torch.device('cuda' if torch.cuda.is_available() else 'cpu')\n",
    "\n",
    "if os.path.isfile(f'{data_name}/{data_name}_mlp.model'):\n",
    "    \n",
    "    print('Loading saved model')\n",
    "    mlp_model = MLPSHAP(len(index_to_name), 1, index_to_name, dataframe=encoded_data, \n",
    "            categorical=nominal, \n",
    "            numerical=numerical,).to(device)\n",
    "    mlp_model.load_state_dict(torch.load(f'{data_name}/{data_name}_mlp.model'))\n",
    "    \n",
    "else:\n",
    "    mlp_model = train_model(index_to_name=index_to_name,\n",
    "                train_dataloader=train_dataloader,\n",
    "                val_dataloader=val_dataloader,\n",
    "                data_name=data_name,\n",
    "                num_classes=1,\n",
    "                dataframe=encoded_data, \n",
    "                categorical=nominal, \n",
    "                numerical=numerical,\n",
    "                mlp_model=None, \n",
    "                optimizer_train=None, \n",
    "                current_epoch=1,\n",
    "                max_num_epochs=300,\n",
    "                learning_rate=1e-03,\n",
    "                num_samples=32,\n",
    "                alpha=1, beta=10,\n",
    "                patience=10)\n"
   ]
  },
  {
   "cell_type": "markdown",
   "id": "f5c0b171",
   "metadata": {},
   "source": [
    "## Evaluate the trained model on the test set"
   ]
  },
  {
   "cell_type": "code",
   "execution_count": 11,
   "id": "a9323f2a",
   "metadata": {},
   "outputs": [
    {
     "name": "stderr",
     "output_type": "stream",
     "text": [
      "100%|█████████████████████████████████████████████████████████████████████████████████| 39/39 [00:00<00:00, 102.63it/s]"
     ]
    },
    {
     "name": "stdout",
     "output_type": "stream",
     "text": [
      "AUC is : 0.9427016007248565,  prec 0.8267967362466289,  recall 0.8601140138930836, f-score 0.8380899776417114\n"
     ]
    },
    {
     "name": "stderr",
     "output_type": "stream",
     "text": [
      "\n"
     ]
    }
   ],
   "source": [
    "from tqdm import tqdm\n",
    "\n",
    "list_prediction = []\n",
    "list_pob_pred = []\n",
    "y_test = []\n",
    "\n",
    "mlp_model.eval()\n",
    "\n",
    "for i, data in tqdm(list(enumerate(test_dataloader))):\n",
    "    inputs, labels = data\n",
    "\n",
    "    inputs = inputs.to(device)\n",
    "    labels = labels.to(device)\n",
    "\n",
    "    outputs = mlp_model(inputs)\n",
    "    list_pob_pred.extend(outputs.tolist())\n",
    "\n",
    "    preds = (outputs.reshape(-1) > 0.5) * 1\n",
    "\n",
    "    list_prediction.extend(preds.tolist())\n",
    "\n",
    "    y_test.extend(labels.tolist())\n",
    "\n",
    "    torch.cuda.empty_cache()\n",
    "\n",
    "\n",
    "roc = roc_auc_score(y_test, list_pob_pred)\n",
    "prec = precision_score(y_test, list_prediction, average='macro')\n",
    "recall = recall_score(y_test, list_prediction, average='macro')\n",
    "f_score = f1_score(y_test, list_prediction, average='macro')\n",
    "\n",
    "print('AUC is : {},  prec {},  recall {}, f-score {}' .format(roc, prec, recall, f_score))"
   ]
  },
  {
   "cell_type": "markdown",
   "id": "27113d35",
   "metadata": {},
   "source": [
    "# Explain one random example"
   ]
  },
  {
   "cell_type": "code",
   "execution_count": 13,
   "id": "3d76ff08",
   "metadata": {},
   "outputs": [
    {
     "data": {
      "image/png": "[encoded data removed]",
      "text/plain": [
       "<Figure size 576x576 with 1 Axes>"
      ]
     },
     "metadata": {},
     "output_type": "display_data"
    },
    {
     "data": {
      "text/plain": [
       "tensor([[0.2391]], device='cuda:0', grad_fn=<SigmoidBackward0>)"
      ]
     },
     "execution_count": 13,
     "metadata": {},
     "output_type": "execute_result"
    }
   ],
   "source": [
    "#num of features to use\n",
    "top_n = 10\n",
    "ind = np.random.choice(len(test))\n",
    "\n",
    "mlp_model.plot_bars(test[10][0].reshape(1, len(index_to_name)).to(device), test_data.iloc[0], top_n)\n",
    "mlp_model.predict(test[10][0].reshape(1, len(index_to_name)).to(device))"
   ]
  },
  {
   "cell_type": "markdown",
   "id": "1ed58d30",
   "metadata": {},
   "source": [
    "# Interpretability Evaluation"
   ]
  },
  {
   "cell_type": "code",
   "execution_count": 14,
   "id": "152f47a7",
   "metadata": {},
   "outputs": [],
   "source": [
    "'''function to obtain feature scores from IGNNet model'''\n",
    "\n",
    "def get_local_values(example, index_to_name):\n",
    "    array_to_use = np.array(example)    \n",
    "    array = torch.FloatTensor(array_to_use).reshape(1, len(index_to_name))\n",
    "    local_importance = mlp_model.get_local_importance(array.to(device))\n",
    "\n",
    "    names = []\n",
    "    values = []\n",
    "    for i, v in enumerate(local_importance):\n",
    "        name = index_to_name[i]\n",
    "        names.append(name)\n",
    "        values.append(v)\n",
    "    return names, values"
   ]
  },
  {
   "cell_type": "code",
   "execution_count": 15,
   "id": "fe711de1",
   "metadata": {},
   "outputs": [],
   "source": [
    "from sklearn.preprocessing import StandardScaler\n",
    "from data_preprocess import BlackBoxWrapper\n",
    "\n",
    "\n",
    "num_features = len(index_to_name)\n",
    "\n",
    "\n",
    "bb = BlackBoxWrapper(mlp_model, num_features, device)\n",
    "\n",
    "def black_box(x, S):\n",
    "    pred = bb(x, S)\n",
    "    return pred.cpu().data.numpy()"
   ]
  },
  {
   "cell_type": "code",
   "execution_count": 19,
   "id": "40d93d38",
   "metadata": {},
   "outputs": [
    {
     "name": "stderr",
     "output_type": "stream",
     "text": [
      "100%|████████████████████████████████████████████████████████████████████████████████| 2490/2490 [07:21<00:00,  5.64it/s]"
     ]
    },
    {
     "name": "stdout",
     "output_type": "stream",
     "text": [
      "Cosine similarity: 0.9755798604909318 +- 0.024766525912254037,  Spearman rank: 0.8829539002242199 +- 0.06600808547530039\n"
     ]
    },
    {
     "name": "stderr",
     "output_type": "stream",
     "text": [
      "\n"
     ]
    }
   ],
   "source": [
    "from tqdm import tqdm\n",
    "import shapreg\n",
    "import pickle\n",
    "import os.path\n",
    "from numpy.linalg import norm\n",
    "from scipy.stats import spearmanr\n",
    "import copy\n",
    "\n",
    "all_cos_sim = []\n",
    "all_spearman_c = []\n",
    "all_krnl = []\n",
    "\n",
    "for x_, _ in tqdm(test_dataset):\n",
    "    _, true_values = get_local_values(x_, index_to_name)\n",
    "\n",
    "    x = x_.reshape((1,x_.shape[0])).numpy()\n",
    "\n",
    "    # Run KernelSHAP to convergence\n",
    "    game_ = shapreg.games.PredictionGame(black_box, x)\n",
    "    try:\n",
    "        shap_values, all_results = shapreg.shapley.ShapleyRegression(\n",
    "            game_, batch_size=256, paired_sampling=True, detect_convergence=True,\n",
    "            bar=False, return_all=True)\n",
    "    except:\n",
    "        print('Singularity exception!')\n",
    "        continue\n",
    "\n",
    "    instance_l2_dis = []\n",
    "    instance_cos_sim = []\n",
    "    spearman_c = []\n",
    "\n",
    "    true_values = np.array(true_values)\n",
    "\n",
    "    knl_shp = shap_values.values.reshape(-1)\n",
    "    all_krnl.append(shap_values)\n",
    "\n",
    "    all_cos_sim.append(np.dot(true_values, knl_shp)/(norm(true_values)*norm(knl_shp)))\n",
    "    coef, p = spearmanr(true_values, knl_shp)\n",
    "    all_spearman_c.append(coef)\n",
    "\n",
    "mean_cos_sim = np.mean(all_cos_sim)\n",
    "mean_spearman_c = np.mean(all_spearman_c)\n",
    "\n",
    "std_cos_sim = np.std(all_cos_sim)\n",
    "std_spearman_c = np.std(all_spearman_c)\n",
    "\n",
    "print('Cosine similarity: {} +- {},  Spearman rank: {} +- {}' .format(mean_cos_sim, std_cos_sim, \n",
    "                                                                      mean_spearman_c, std_spearman_c))\n",
    "\n",
    "with open(f'{data_name}/{data_name}_krnlshp_mlp.pickle', 'wb') as file:\n",
    "    pickle.dump(all_krnl, file)"
   ]
  },
  {
   "cell_type": "code",
   "execution_count": null,
   "id": "566247eb",
   "metadata": {},
   "outputs": [],
   "source": []
  }
 ],
 "metadata": {
  "kernelspec": {
   "display_name": "Python 3",
   "language": "python",
   "name": "python3"
  },
  "language_info": {
   "codemirror_mode": {
    "name": "ipython",
    "version": 3
   },
   "file_extension": ".py",
   "mimetype": "text/x-python",
   "name": "python",
   "nbconvert_exporter": "python",
   "pygments_lexer": "ipython3",
   "version": "3.8.8"
  }
 },
 "nbformat": 4,
 "nbformat_minor": 5
}
